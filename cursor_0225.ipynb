{
 "cells": [
  {
   "cell_type": "markdown",
   "id": "gorgeous-female",
   "metadata": {},
   "source": [
    "# Este Codigo toma el control del cursor cuando el usuario esta ausente\n",
    "# y se lo regresa cuando el usuario mueve el cursor nuevamente"
   ]
  },
  {
   "cell_type": "code",
   "execution_count": null,
   "id": "corporate-bruce",
   "metadata": {},
   "outputs": [],
   "source": [
    "import win32api\n",
    "from time import sleep\n",
    "import pyautogui as gui\n",
    "from datetime import datetime\n",
    "print(\"Programa emoezando.\")\n",
    "c = 0\n",
    "p = win32api.GetCursorPos()\n",
    "def mueve(j):\n",
    "    now=datetime.now()\n",
    "    h=now.hour\n",
    "    m=now.minute/100\n",
    "    t= h+m\n",
    "    c = 0\n",
    "    print(gui.size())\n",
    "    print(j, t)\n",
    "    while True:\n",
    "        x = win32api.GetCursorPos()\n",
    "        sleep(1)\n",
    "        y = win32api.GetCursorPos()\n",
    "        if t <= j:\n",
    "            if x == y:\n",
    "                x = y\n",
    "                c += 1\n",
    "                if c >= 50 :\n",
    "                    gui.click()        \n",
    "                    gui.press('home')\n",
    "                    gui.moveTo(560, 142, 0.25) \n",
    "                    gui.click()\n",
    "                    sleep(10)\n",
    "                    gui.moveTo(560, 172, 0.25) \n",
    "                    gui.click()\n",
    "                    sleep(5)\n",
    "                    cursor(m)\n",
    "                else:\n",
    "                    pass\n",
    "            else:\n",
    "                print(\"el mouse se esta moviendo.\")\n",
    "                c = 0\n",
    "        else:\n",
    "             break\n",
    "\n",
    "\n",
    "def cursor(l):\n",
    "    #print(l,type(l))\n",
    "    j=l\n",
    "    c = 0\n",
    "    while True:\n",
    "        x = win32api.GetCursorPos()\n",
    "        sleep(1)\n",
    "        y = win32api.GetCursorPos()\n",
    "        now=datetime.now()\n",
    "        h=now.hour\n",
    "        m=now.minute/100\n",
    "        t= h+m\n",
    "        if t <= l: \n",
    "            if x == y:\n",
    "                x = y\n",
    "\n",
    "                c += 1\n",
    "                if c >= 50 :\n",
    "                    mueve(j)\n",
    "                    break\n",
    "                else:\n",
    "                    pass\n",
    "            else:\n",
    "                print(\"el mouse se esta moviendo.\")\n",
    "                c = 0\n",
    "        else:\n",
    "             break\n",
    "cursor(22.30) #entre parentesis pon la hora a la que quieres que termine ejemplo 18.30 igual a 6:30pm no confundir . con \":\""
   ]
  },
  {
   "cell_type": "code",
   "execution_count": null,
   "id": "weird-symbol",
   "metadata": {},
   "outputs": [],
   "source": []
  },
  {
   "cell_type": "code",
   "execution_count": null,
   "id": "institutional-kuwait",
   "metadata": {},
   "outputs": [],
   "source": []
  },
  {
   "cell_type": "code",
   "execution_count": null,
   "id": "chicken-boost",
   "metadata": {},
   "outputs": [],
   "source": []
  },
  {
   "cell_type": "code",
   "execution_count": null,
   "id": "sudden-james",
   "metadata": {},
   "outputs": [],
   "source": []
  },
  {
   "cell_type": "code",
   "execution_count": null,
   "id": "silver-shelf",
   "metadata": {},
   "outputs": [],
   "source": []
  },
  {
   "cell_type": "code",
   "execution_count": null,
   "id": "studied-vanilla",
   "metadata": {},
   "outputs": [],
   "source": []
  },
  {
   "cell_type": "code",
   "execution_count": null,
   "id": "coupled-longitude",
   "metadata": {},
   "outputs": [],
   "source": []
  },
  {
   "cell_type": "code",
   "execution_count": null,
   "id": "conventional-volume",
   "metadata": {},
   "outputs": [],
   "source": []
  },
  {
   "cell_type": "code",
   "execution_count": null,
   "id": "stretch-leonard",
   "metadata": {},
   "outputs": [],
   "source": []
  },
  {
   "cell_type": "code",
   "execution_count": null,
   "id": "naval-discipline",
   "metadata": {},
   "outputs": [],
   "source": []
  },
  {
   "cell_type": "code",
   "execution_count": null,
   "id": "foreign-count",
   "metadata": {},
   "outputs": [],
   "source": []
  },
  {
   "cell_type": "code",
   "execution_count": null,
   "id": "cleared-charter",
   "metadata": {},
   "outputs": [],
   "source": []
  },
  {
   "cell_type": "code",
   "execution_count": null,
   "id": "western-showcase",
   "metadata": {},
   "outputs": [],
   "source": []
  },
  {
   "cell_type": "code",
   "execution_count": null,
   "id": "jewish-works",
   "metadata": {},
   "outputs": [],
   "source": []
  },
  {
   "cell_type": "code",
   "execution_count": null,
   "id": "designing-flour",
   "metadata": {},
   "outputs": [],
   "source": []
  },
  {
   "cell_type": "code",
   "execution_count": null,
   "id": "yellow-begin",
   "metadata": {},
   "outputs": [],
   "source": []
  },
  {
   "cell_type": "code",
   "execution_count": null,
   "id": "measured-cradle",
   "metadata": {},
   "outputs": [],
   "source": []
  },
  {
   "cell_type": "code",
   "execution_count": null,
   "id": "valuable-italy",
   "metadata": {},
   "outputs": [],
   "source": []
  },
  {
   "cell_type": "code",
   "execution_count": null,
   "id": "false-developer",
   "metadata": {},
   "outputs": [],
   "source": []
  },
  {
   "cell_type": "code",
   "execution_count": null,
   "id": "medieval-sleeping",
   "metadata": {},
   "outputs": [],
   "source": []
  },
  {
   "cell_type": "code",
   "execution_count": null,
   "id": "cooked-orientation",
   "metadata": {},
   "outputs": [],
   "source": []
  },
  {
   "cell_type": "code",
   "execution_count": null,
   "id": "resident-shuttle",
   "metadata": {},
   "outputs": [],
   "source": []
  },
  {
   "cell_type": "code",
   "execution_count": null,
   "id": "confidential-indie",
   "metadata": {},
   "outputs": [],
   "source": []
  }
 ],
 "metadata": {
  "kernelspec": {
   "display_name": "Python 3",
   "language": "python",
   "name": "python3"
  },
  "language_info": {
   "codemirror_mode": {
    "name": "ipython",
    "version": 3
   },
   "file_extension": ".py",
   "mimetype": "text/x-python",
   "name": "python",
   "nbconvert_exporter": "python",
   "pygments_lexer": "ipython3",
   "version": "3.7.10"
  }
 },
 "nbformat": 4,
 "nbformat_minor": 5
}
